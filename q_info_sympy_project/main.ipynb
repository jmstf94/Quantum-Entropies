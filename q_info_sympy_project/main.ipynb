{
 "cells": [
  {
   "cell_type": "markdown",
   "id": "3d7ec654",
   "metadata": {},
   "source": [
    "# Multi-quDit operations and entropies\n",
    "This is an ongoing project-notebook for symbolic programming manipulation of arbitrary number of qudits based on sympy.\n",
    "\n",
    "Main todo's:\n",
    "\n",
    "Partial Tracing for arbitrary systems and subsystems.\n",
    "\n",
    "Parallel manipulation in matrix form and symbolic form(dirac notation).\n",
    "\n",
    "Quantum entropy calculations."
   ]
  },
  {
   "cell_type": "code",
   "execution_count": 1,
   "id": "8746cfed",
   "metadata": {},
   "outputs": [],
   "source": [
    "from sympy.matrices import Matrix\n",
    "from sympy.physics.quantum import TensorProduct, qapply, Dagger, OrthogonalKet, OrthogonalBra\n",
    "from sympy.interactive import printing\n",
    "printing.init_printing(use_latex = True)\n",
    "from sympy import *"
   ]
  },
  {
   "cell_type": "markdown",
   "id": "48e1327e",
   "metadata": {},
   "source": [
    "# Development of the matrix part\n",
    "Todo's:\n",
    "\n",
    "-in the init method should be check if the matrix satisfies the density matrix conditions\n",
    "\n",
    "-test how it works with symbols(i.e. parameters)(so far ok)\n",
    "\n",
    "-test partial trace result with examples\n",
    "\n",
    "-at this point the partial trace calculation mod is not efficient but an application of the partial trace definition. We can do it more efficient by simplifying using the zeros of the orthonormal basis as in https://digitalcommons.calpoly.edu/cgi/viewcontent.cgi?referer=&httpsredir=1&article=1038&context=physsp#:~:text=In%20SymPy%2C%20the%20density%20operator,only%20work%20for%20Qubit%20objects.&text=We%20form%20a%20Density%20object%20made%20up%20of%20general%20ket%20states"
   ]
  },
  {
   "cell_type": "code",
   "execution_count": 2,
   "id": "7047ced7",
   "metadata": {},
   "outputs": [],
   "source": [
    "class density_matrix:\n",
    "    \"\"\"\n",
    "    -the density matrix as a sympy matrix\n",
    "    \n",
    "    -the dimensions of the subspaces in list\n",
    "    for example if its a qubit times qubit which means 2x2 \n",
    "    hence 4 dimensional hilbert space the dimentions will be the list [2,2]\n",
    "    \n",
    "    \"\"\"\n",
    "    def __init__(self, matrix, dims):\n",
    "        self.matrix = matrix\n",
    "        self.dims = dims\n",
    "        self.d = sum(dims)\n",
    "    def __mul__(self,other):\n",
    "        return density_matrix(self.matrix*other.matrix)\n",
    "    def __add__(self,other):\n",
    "        return density_matrix(self.matrix+other.matrix)\n",
    "    def __sub__(self,other):\n",
    "        return density_matrix(self.matrix-other.matrix)\n",
    "    def __floordiv__(self,other):\n",
    "        \"\"\"\n",
    "        I use the floordiv // operation for tensor product notation  \n",
    "        \"\"\"\n",
    "        return TensorProduct(self.matrix,other.matrix)\n",
    "    def __mod__(self,quDits_to_be_dropped):\n",
    "        \"\"\"\n",
    "        i use the mod % symbol for finding the partial trace by mentioning which qubits will be traced out\n",
    "        for example let's say that we have a qubit times a qutrit times a qubit(a 2*3*2=A*B*C hilbert space) and \n",
    "        we want to trace out the A and the C states, i.e. we want to get the substate B. We get that by writing\n",
    "        density_matrix%[0,2] meaning trace out the first and the third qubit.\n",
    "        \"\"\"\n",
    "        def tracors(dimensions_list, to_trace_out):\n",
    "            trace_list = []\n",
    "            d = eye(dimensions_list[to_trace_out])\n",
    "            for i in range(dimensions_list[to_trace_out]):\n",
    "                m = Matrix([[1]])\n",
    "                for j in range(len(dimensions_list)):\n",
    "                    if j==to_trace_out:\n",
    "                        m = TensorProduct(m,d.col(i))\n",
    "                    else:\n",
    "                        m = TensorProduct(m,eye(dimensions_list[j]))\n",
    "                trace_list.append(m)\n",
    "            return trace_list\n",
    "        def trace_out_one(operator,tracor_list):\n",
    "            x,y= shape(tracor_list[0])\n",
    "            n=int(self.d/int(x/y))\n",
    "            s = zeros(n,n)\n",
    "            for i in tracor_list:\n",
    "                s+=Dagger(i)*operator*i\n",
    "            return s\n",
    "        m = self.matrix\n",
    "        dims = (self.dims).copy()\n",
    "        quDits_to_be_dropped.sort()\n",
    "        q = quDits_to_be_dropped.copy()\n",
    "        for i in range(len(quDits_to_be_dropped)):\n",
    "            m = trace_out_one(m, tracors(dims,q[0]))\n",
    "            dims.remove(dims[q[0]])\n",
    "            q = q[1:]\n",
    "            q[:] = [x - 1 for x in q]\n",
    "        return density_matrix(m,dims)\n",
    "    def shape(self):\n",
    "        return shape(self.matrix_form)\n",
    "    def get_matrix(self):\n",
    "        return self.matrix\n",
    "    def show(self):\n",
    "        #display(\"Matrix form:\")\n",
    "        display(self.matrix)\n",
    "    def dagger(self):\n",
    "        return Dagger(self.matrix)"
   ]
  },
  {
   "cell_type": "code",
   "execution_count": 3,
   "id": "ad419e05",
   "metadata": {},
   "outputs": [
    {
     "data": {
      "image/png": "[encoded data removed]",
      "text/latex": [
       "$\\displaystyle \\left[\\begin{matrix}0 & 0 & 0 & 0\\\\0 & 0.5 & 0.5 i & 0\\\\0 & - 0.5 i & 0.5 & 0\\\\0 & 0 & 0 & 0\\end{matrix}\\right]$"
      ],
      "text/plain": [
       "⎡0    0       0    0⎤\n",
       "⎢                   ⎥\n",
       "⎢0   0.5    0.5⋅ⅈ  0⎥\n",
       "⎢                   ⎥\n",
       "⎢0  -0.5⋅ⅈ   0.5   0⎥\n",
       "⎢                   ⎥\n",
       "⎣0    0       0    0⎦"
      ]
     },
     "metadata": {},
     "output_type": "display_data"
    }
   ],
   "source": [
    "example1 = density_matrix((1/2)*Matrix([[0,0,0,0],[0,1,1j,0],[0,-1j,1,0],[0,0,0,0]]),[2,2])\n",
    "example1.show()"
   ]
  },
  {
   "cell_type": "code",
   "execution_count": 4,
   "id": "b59026b4",
   "metadata": {},
   "outputs": [
    {
     "data": {
      "image/png": "[encoded data removed]",
      "text/latex": [
       "$\\displaystyle \\left[\\begin{matrix}s & 0\\\\0 & 1 - s\\end{matrix}\\right]$"
      ],
      "text/plain": [
       "⎡s    0  ⎤\n",
       "⎢        ⎥\n",
       "⎣0  1 - s⎦"
      ]
     },
     "metadata": {},
     "output_type": "display_data"
    }
   ],
   "source": [
    "s = symbols('s')\n",
    "example2 = density_matrix(Matrix([[s,0],[0,1-s]]),[2])\n",
    "example2.show()"
   ]
  },
  {
   "cell_type": "code",
   "execution_count": 62,
   "id": "25725bf5",
   "metadata": {},
   "outputs": [
    {
     "data": {
      "image/png": "[encoded data removed]",
      "text/latex": [
       "$\\displaystyle \\left[\\begin{matrix}\\cos^{2}{\\left(\\theta \\right)} & 0 & 0 & \\sin{\\left(\\theta \\right)} \\cos{\\left(\\theta \\right)}\\\\0 & 0 & 0 & 0\\\\0 & 0 & 0 & 0\\\\\\sin{\\left(\\theta \\right)} \\cos{\\left(\\theta \\right)} & 0 & 0 & \\sin^{2}{\\left(\\theta \\right)}\\end{matrix}\\right]$"
      ],
      "text/plain": [
       "⎡      2                           ⎤\n",
       "⎢   cos (θ)     0  0  sin(θ)⋅cos(θ)⎥\n",
       "⎢                                  ⎥\n",
       "⎢      0        0  0        0      ⎥\n",
       "⎢                                  ⎥\n",
       "⎢      0        0  0        0      ⎥\n",
       "⎢                                  ⎥\n",
       "⎢                           2      ⎥\n",
       "⎣sin(θ)⋅cos(θ)  0  0     sin (θ)   ⎦"
      ]
     },
     "metadata": {},
     "output_type": "display_data"
    },
    {
     "data": {
      "image/png": "[encoded data removed]",
      "text/latex": [
       "$\\displaystyle \\left[\\begin{matrix}\\cos^{2}{\\left(\\theta \\right)} & 0\\\\0 & \\sin^{2}{\\left(\\theta \\right)}\\end{matrix}\\right]$"
      ],
      "text/plain": [
       "⎡   2            ⎤\n",
       "⎢cos (θ)     0   ⎥\n",
       "⎢                ⎥\n",
       "⎢            2   ⎥\n",
       "⎣   0     sin (θ)⎦"
      ]
     },
     "metadata": {},
     "output_type": "display_data"
    }
   ],
   "source": [
    "theta = symbols('theta')\n",
    "example3 = density_matrix(Matrix([[(cos(theta))**2,0,0,cos(theta)*sin(theta)],[0,0,0,0],[0,0,0,0],[cos(theta)*sin(theta),0,0,(sin(theta))**2]]),[2,2])\n",
    "example3.show()\n",
    "(example3%[0]).show()"
   ]
  },
  {
   "cell_type": "code",
   "execution_count": 65,
   "id": "7248188f",
   "metadata": {},
   "outputs": [
    {
     "data": {
      "image/png": "[encoded data removed]",
      "text/latex": [
       "$\\displaystyle \\left[\\begin{matrix}\\frac{s}{4} + \\frac{1}{4} & 0 & 0 & \\frac{s}{2}\\\\0 & \\frac{1}{4} - \\frac{s}{4} & 0 & 0\\\\0 & 0 & \\frac{1}{4} - \\frac{s}{4} & 0\\\\\\frac{s}{2} & 0 & 0 & \\frac{s}{4} + \\frac{1}{4}\\end{matrix}\\right]$"
      ],
      "text/plain": [
       "⎡s   1                  s  ⎤\n",
       "⎢─ + ─    0      0      ─  ⎥\n",
       "⎢4   4                  2  ⎥\n",
       "⎢                          ⎥\n",
       "⎢       1   s              ⎥\n",
       "⎢  0    ─ - ─    0      0  ⎥\n",
       "⎢       4   4              ⎥\n",
       "⎢                          ⎥\n",
       "⎢              1   s       ⎥\n",
       "⎢  0      0    ─ - ─    0  ⎥\n",
       "⎢              4   4       ⎥\n",
       "⎢                          ⎥\n",
       "⎢  s                  s   1⎥\n",
       "⎢  ─      0      0    ─ + ─⎥\n",
       "⎣  2                  4   4⎦"
      ]
     },
     "metadata": {},
     "output_type": "display_data"
    },
    {
     "data": {
      "image/png": "[encoded data removed]",
      "text/latex": [
       "$\\displaystyle \\left[\\begin{matrix}\\frac{1}{2} & 0\\\\0 & \\frac{1}{2}\\end{matrix}\\right]$"
      ],
      "text/plain": [
       "⎡1/2   0 ⎤\n",
       "⎢        ⎥\n",
       "⎣ 0   1/2⎦"
      ]
     },
     "metadata": {},
     "output_type": "display_data"
    }
   ],
   "source": [
    "werner_state = density_matrix(Matrix([[(1+s)/4,0,0,s/2],[0,(1-s)/4,0,0],[0,0,(1-s)/4,0],[s/2,0,0,(1+s)/4]]),[2,2])\n",
    "werner_state.show()\n",
    "(werner_state%[1]).show()"
   ]
  },
  {
   "cell_type": "markdown",
   "id": "4b090c9f",
   "metadata": {},
   "source": [
    "# Development of the symbolic dirac part"
   ]
  },
  {
   "cell_type": "code",
   "execution_count": 2,
   "id": "e1e78008",
   "metadata": {},
   "outputs": [],
   "source": [
    "class qinfo_state:\n",
    "    \"\"\"\n",
    "    for now it assumes you are creating a valid state\n",
    "    \"\"\"\n",
    "    def __init__(self, matrix):\n",
    "        \"\"\"\n",
    "        From the one to another?\n",
    "        \"\"\"\n",
    "        self.matrix_form = matrix_form\n",
    "        self.dirac_form = dirac_form\n",
    "    def shape(self):\n",
    "        return shape(self.matrix_form)\n",
    "    def get_matrix(self):\n",
    "        return self.matrix_form\n",
    "    def get_dirac(self):\n",
    "        return self.dirac_form\n",
    "    def show(self):\n",
    "        display(\"In Matrix form:\")\n",
    "        display(self.get_matrix())\n",
    "        display(\"In Dirac form:\")\n",
    "        display(qapply(self.get_dirac()))\n",
    "    def dagger(self):\n",
    "        return qinfo_state(Dagger(self.matrix_form),Dagger(self.dirac_form))\n",
    "    def __mul__(self,other):\n",
    "        if is_ket(other):\n",
    "            pass\n",
    "    def fshow(self):\n",
    "        \"\"\"\n",
    "        print as ket=matrix \n",
    "        \"\"\"\n",
    "        pass"
   ]
  },
  {
   "cell_type": "markdown",
   "id": "51165e38",
   "metadata": {},
   "source": [
    "# other functions that my be used"
   ]
  },
  {
   "cell_type": "code",
   "execution_count": 16,
   "id": "f74d477d",
   "metadata": {},
   "outputs": [],
   "source": [
    "\n",
    "\n",
    "def is_qudit(system):\n",
    "    \"\"\"\n",
    "    checks if a qinfostate is a qudit or not, meaning ket or bra not density operator form. this may need change in \n",
    "    the future in order to be consistent with mathematical definitions\n",
    "    \"\"\"\n",
    "    return (bool(system.shape()[0]==1) ^ bool(system.shape()[1]==1))\n",
    "\n",
    "def is_ket(system):\n",
    "    \"\"\"\n",
    "    checks if a qudit instance is a ket. If it is, it returns True, if it's not it returns False\n",
    "    \"\"\"\n",
    "    if is_qudit(system):\n",
    "        return system.shape()[1]==1\n",
    "    else:\n",
    "        raise TypeError(\"This is not a quDit state. Therefore it can not be a ket.\")\n",
    "    \n",
    "def is_bra(system):\n",
    "    \"\"\"\n",
    "    checks if a qudit is a bra. If it is, it returns True, if it's not it returns False\n",
    "    \"\"\"\n",
    "    if is_qudit(system):\n",
    "        return system.shape()[0]==1\n",
    "    else:\n",
    "        raise TypeError(\"This is not a quDit state. Therefore it can not be a ket.\")\n",
    "\n",
    "def is_density_state(system):\n",
    "    \"\"\"\n",
    "    checks if the system is a density state i.e. not a qudit(ket or bra)\n",
    "    \n",
    "    for now I use the is_qudit function but ideally it would be separate checker\n",
    "    \"\"\"\n",
    "    if not is_qudit(system):\n",
    "        return True\n",
    "    else:\n",
    "        return False\n",
    "\n",
    "def inner_product(quditA, quditB):\n",
    "    pass\n",
    "\n",
    "def outer_product(stateA,stateB):\n",
    "    return qinfo_state(tensor_product(stateA,stateB.dagger()).get_matrix(),stateA.get_dirac()*stateB.dagger().get_dirac())\n",
    "\n",
    "def identity_qinfo_state(d):\n",
    "    \"\"\"\n",
    "    returns a qinfostate instance which is the identity matrix of certain dimensions\n",
    "    \"\"\"\n",
    "    return qinfostate(eye(d),)"
   ]
  }
 ],
 "metadata": {
  "kernelspec": {
   "display_name": "Python 3",
   "language": "python",
   "name": "python3"
  },
  "language_info": {
   "codemirror_mode": {
    "name": "ipython",
    "version": 3
   },
   "file_extension": ".py",
   "mimetype": "text/x-python",
   "name": "python",
   "nbconvert_exporter": "python",
   "pygments_lexer": "ipython3",
   "version": "3.8.8"
  }
 },
 "nbformat": 4,
 "nbformat_minor": 5
}
