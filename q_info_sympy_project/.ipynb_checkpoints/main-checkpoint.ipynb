{
 "cells": [
  {
   "cell_type": "markdown",
   "id": "3d7ec654",
   "metadata": {},
   "source": [
    "# Multi-quDit operations and entropies\n",
    "This is an ongoing project-notebook for symbolic programming manipulation of arbitrary number of qudits based on sympy.\n",
    "\n",
    "Main todo's:\n",
    "\n",
    "Partial Tracing for arbitrary systems and subsystems.\n",
    "\n",
    "Parallel manipulation in matrix form and symbolic form(dirac notation).\n",
    "\n",
    "Quantum entropy calculations."
   ]
  },
  {
   "cell_type": "code",
   "execution_count": 1,
   "id": "8746cfed",
   "metadata": {},
   "outputs": [],
   "source": [
    "from sympy.matrices import Matrix\n",
    "from sympy.physics.quantum import Ket, Bra, TensorProduct, qapply, Dagger\n",
    "from sympy.interactive import printing\n",
    "printing.init_printing(use_latex = True)\n",
    "from sympy import *"
   ]
  },
  {
   "cell_type": "code",
   "execution_count": 2,
   "id": "d50cbf11",
   "metadata": {},
   "outputs": [],
   "source": [
    "class qinfo_state:\n",
    "    def __init__(self, matrix_form, dirac_form):\n",
    "        \"\"\"\n",
    "        From the one to another?\n",
    "        \"\"\"\n",
    "        self.matrix_form = matrix_form\n",
    "        self.dirac_form = dirac_form\n",
    "    def shape(self):\n",
    "        return shape(self.matrix_form)\n",
    "    def get_matrix(self):\n",
    "        return self.matrix_form\n",
    "    def get_dirac(self):\n",
    "        return self.dirac_form\n",
    "    def show(self):\n",
    "        display(\"In Matrix form:\")\n",
    "        display(self.get_matrix())\n",
    "        display(\"In Dirac form:\")\n",
    "        display(self.get_dirac())\n",
    "    def dagger(self):\n",
    "        return qinfo_state(Dagger(self.matrix_form),Dagger(self.dirac_form))\n",
    "    def fshow(self):\n",
    "        \"\"\"\n",
    "        print as ket=matrix \n",
    "        \"\"\"\n",
    "        pass\n",
    "\n",
    "class qudit(qinfo_state):\n",
    "    \"\"\"\n",
    "    subcategory of hilbert states with (m,1) or (1,m) shape\n",
    "    \"\"\"\n",
    "    #def __init__(self):\n",
    "        \n",
    "    pass\n",
    "\n"
   ]
  },
  {
   "cell_type": "code",
   "execution_count": 3,
   "id": "47fe3d2d",
   "metadata": {},
   "outputs": [],
   "source": [
    "def tensor_product(systemA, systemB):\n",
    "    \"\"\"\n",
    "    returns the tensor product of instances of qinfostates as a qinfostate\n",
    "    \"\"\"\n",
    "    return qinfo_state(TensorProduct(systemA.get_matrix(),systemB.get_matrix()),qapply(TensorProduct(systemA.get_dirac(),systemB.get_dirac())))\n",
    "\n",
    "def is_qudit(system):\n",
    "    \"\"\"\n",
    "    checks if a qinfostate is a qudit or not\n",
    "    \"\"\"\n",
    "    return (bool(system.shape()[0]==1) ^ bool(system.shape()[1]==1))\n",
    "\n",
    "def is_ket(system):\n",
    "    \"\"\"\n",
    "    checks if a qudit instance is a ket. If it is, it returns True, if it's not it returns False\n",
    "    \"\"\"\n",
    "    if is_qudit(system):\n",
    "        return system.shape()[1]==1\n",
    "    else:\n",
    "        raise TypeError(\"This is not a quDit state. Therefore it can not be a ket.\")\n",
    "    \n",
    "def is_bra(system):\n",
    "    \"\"\"\n",
    "    checks if a qudit is a bra. If it is, it returns True, if it's not it returns False\n",
    "    \"\"\"\n",
    "    if is_qudit(system):\n",
    "        return system.shape()[0]==1\n",
    "    else:\n",
    "        raise TypeError(\"This is not a quDit state. Therefore it can not be a ket.\")\n",
    "\n",
    "def inner_product(quditA, quditB):\n",
    "    pass\n",
    "\n",
    "def outer_product(stateA,stateB):\n",
    "    return qinfo_state(tensor_product(stateA,stateB.dagger()).get_matrix(),stateA.get_dirac()*stateB.dagger().get_dirac())\n",
    "\n",
    "def identity_qinfo_state(rows,columns):\n",
    "    \"\"\"\n",
    "    returns a qinfostate instance which is the identity matrix of certain dimensions\n",
    "    \"\"\"\n",
    "    pass"
   ]
  },
  {
   "cell_type": "code",
   "execution_count": 5,
   "id": "72eed44b",
   "metadata": {},
   "outputs": [],
   "source": [
    "def partial_trace(qinfostate, quDit_dimensions_list, list_of_quDits_to_be_traced_out):\n",
    "    \"\"\"\n",
    "    I probably need kwargs in this one\n",
    "    \n",
    "    -fully general partial trace \n",
    "    \"\"\"\n",
    "    matrix = qinfostate.get_matrix()\n",
    "    pass"
   ]
  }
 ],
 "metadata": {
  "kernelspec": {
   "display_name": "Python 3",
   "language": "python",
   "name": "python3"
  },
  "language_info": {
   "codemirror_mode": {
    "name": "ipython",
    "version": 3
   },
   "file_extension": ".py",
   "mimetype": "text/x-python",
   "name": "python",
   "nbconvert_exporter": "python",
   "pygments_lexer": "ipython3",
   "version": "3.8.8"
  }
 },
 "nbformat": 4,
 "nbformat_minor": 5
}
