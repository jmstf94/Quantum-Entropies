{
 "cells": [
  {
   "cell_type": "markdown",
   "id": "3d7ec654",
   "metadata": {},
   "source": [
    "# Multi-quDit operations and entropies\n",
    "This is an ongoing project-notebook for symbolic programming manipulation of arbitrary number of qudits based on sympy.\n",
    "\n",
    "Main todo's:\n",
    "\n",
    "Partial Tracing for arbitrary systems and subsystems.\n",
    "\n",
    "Parallel manipulation in matrix form and symbolic form(dirac notation).\n",
    "\n",
    "Quantum entropy calculations."
   ]
  },
  {
   "cell_type": "code",
   "execution_count": 2,
   "id": "8746cfed",
   "metadata": {},
   "outputs": [],
   "source": [
    "from sympy.matrices import Matrix\n",
    "from sympy.physics.quantum import TensorProduct, qapply, Dagger, OrthogonalKet, OrthogonalBra\n",
    "from sympy.interactive import printing\n",
    "printing.init_printing(use_latex = True)\n",
    "from sympy import *"
   ]
  },
  {
   "cell_type": "markdown",
   "id": "48e1327e",
   "metadata": {},
   "source": [
    "# Development of the matrix part\n",
    "Todo's:\n",
    "\n",
    "-in the init method should be check if the matrix satisfies the density matrix conditions\n",
    "\n",
    "-test how it works with symbols(i.e. parameters)(so far ok)\n"
   ]
  },
  {
   "cell_type": "code",
   "execution_count": 19,
   "id": "7047ced7",
   "metadata": {},
   "outputs": [
    {
     "data": {
      "image/png": "[encoded data removed]",
      "text/latex": [
       "$\\displaystyle \\left[ \\left[\\begin{matrix}1 & 0\\\\0 & 1\\\\0 & 0\\\\0 & 0\\end{matrix}\\right], \\  \\left[\\begin{matrix}0 & 0\\\\0 & 0\\\\1 & 0\\\\0 & 1\\end{matrix}\\right]\\right]$"
      ],
      "text/plain": [
       "⎡⎡1  0⎤  ⎡0  0⎤⎤\n",
       "⎢⎢    ⎥  ⎢    ⎥⎥\n",
       "⎢⎢0  1⎥  ⎢0  0⎥⎥\n",
       "⎢⎢    ⎥, ⎢    ⎥⎥\n",
       "⎢⎢0  0⎥  ⎢1  0⎥⎥\n",
       "⎢⎢    ⎥  ⎢    ⎥⎥\n",
       "⎣⎣0  0⎦  ⎣0  1⎦⎦"
      ]
     },
     "metadata": {},
     "output_type": "display_data"
    },
    {
     "data": {
      "image/png": "[encoded data removed]",
      "text/latex": [
       "$\\displaystyle \\left[\\begin{matrix}1 & 0\\\\0 & 1\\end{matrix}\\right]$"
      ],
      "text/plain": [
       "⎡1  0⎤\n",
       "⎢    ⎥\n",
       "⎣0  1⎦"
      ]
     },
     "metadata": {},
     "output_type": "display_data"
    }
   ],
   "source": [
    "class density_matrix:\n",
    "    \"\"\"\n",
    "    -the density matrix as a sympy matrix\n",
    "    \n",
    "    -the dimensions of the subspaces in list\n",
    "    for example if its a qubit times qubit which means 2x2 \n",
    "    hence 4 dimensional hilbert space the dimentions will be the list [2,2]\n",
    "    \n",
    "    \"\"\"\n",
    "    def __init__(self, matrix, dims):\n",
    "        self.matrix = matrix\n",
    "        self.dims = dims\n",
    "        self.d = sum(dims)\n",
    "    def __mul__(self,other):\n",
    "        return density_matrix(self.matrix*other.matrix)\n",
    "    def __add__(self,other):\n",
    "        return density_matrix(self.matrix+other.matrix)\n",
    "    def __sub__(self,other):\n",
    "        return density_matrix(self.matrix-other.matrix)\n",
    "    def __floordiv__(self,other):\n",
    "        \"\"\"\n",
    "        I use the floordiv // operation for tensor product notation  \n",
    "        \"\"\"\n",
    "        return TensorProduct(self.matrix,other.matrix)\n",
    "    def __mod__(self,quDits_to_be_dropped):\n",
    "        \"\"\"\n",
    "        i use the mod % symbol for finding the partial trace by mentioning which qubits will be traced out\n",
    "        for example let's say that we have a qubit times a qutrit times a qubit(a 2*3*2=A*B*C hilbert space) and \n",
    "        we want to trace out the A and the C states, i.e. we want to get the substate B. We get that by writing\n",
    "        density_matrix%[0,2] meaning trace out the first and the third qubit.\n",
    "        \"\"\"\n",
    "        def tracors(dimensions_list, to_trace_out):\n",
    "            trace_list = []\n",
    "            d = eye(dimensions_list[to_trace_out])\n",
    "            for i in range(dimensions_list[to_trace_out]):\n",
    "                m = Matrix([[1]])\n",
    "                for j in range(len(dimensions_list)):\n",
    "                    if j==to_trace_out:\n",
    "                        m = TensorProduct(m,d.col(i))\n",
    "                    else:\n",
    "                        m = TensorProduct(m,eye(dimensions_list[j]))\n",
    "                trace_list.append(m)\n",
    "            return trace_list\n",
    "        def trace_out_one(operator,tracor_list):\n",
    "            x,y= shape(tracor_list[0])\n",
    "            n=int(self.d/int(x/y))\n",
    "            s = zeros(n,n)\n",
    "            for i in tracor_list:\n",
    "                s+=Dagger(i)*operator*i\n",
    "            return s\n",
    "        m = self.matrix\n",
    "        for i in range(len(qudits_to_be_dropped)):\n",
    "            trace_out_one\n",
    "                      \n",
    "        \n",
    "        \n",
    "        \n",
    "        display(tracors(self.dims,0))\n",
    "        display(trace_out_one(self.matrix,tracors(self.dims,0)))\n",
    "    def shape(self):\n",
    "        return shape(self.matrix_form)\n",
    "    def get_matrix(self):\n",
    "        return self.matrix\n",
    "    def show(self):\n",
    "        display(\"Matrix form:\")\n",
    "        display(self.matrix)\n",
    "    def dagger(self):\n",
    "        return Dagger(self.matrix)\n",
    "\n",
    "some_d = density_matrix(Matrix([[1,0,0,1],[0,0,0,0],[0,0,0,0],[1,0,0,1]]),[2,2])\n",
    "\n",
    "some_d%[0]"
   ]
  },
  {
   "cell_type": "markdown",
   "id": "4b090c9f",
   "metadata": {},
   "source": [
    "# Development of the symbolic dirac part"
   ]
  },
  {
   "cell_type": "code",
   "execution_count": 2,
   "id": "e1e78008",
   "metadata": {},
   "outputs": [],
   "source": [
    "class qinfo_state:\n",
    "    \"\"\"\n",
    "    for now it assumes you are creating a valid state\n",
    "    \"\"\"\n",
    "    def __init__(self, matrix):\n",
    "        \"\"\"\n",
    "        From the one to another?\n",
    "        \"\"\"\n",
    "        self.matrix_form = matrix_form\n",
    "        self.dirac_form = dirac_form\n",
    "    def shape(self):\n",
    "        return shape(self.matrix_form)\n",
    "    def get_matrix(self):\n",
    "        return self.matrix_form\n",
    "    def get_dirac(self):\n",
    "        return self.dirac_form\n",
    "    def show(self):\n",
    "        display(\"In Matrix form:\")\n",
    "        display(self.get_matrix())\n",
    "        display(\"In Dirac form:\")\n",
    "        display(qapply(self.get_dirac()))\n",
    "    def dagger(self):\n",
    "        return qinfo_state(Dagger(self.matrix_form),Dagger(self.dirac_form))\n",
    "    def __mul__(self,other):\n",
    "        if is_ket(other):\n",
    "            pass\n",
    "    def fshow(self):\n",
    "        \"\"\"\n",
    "        print as ket=matrix \n",
    "        \"\"\"\n",
    "        pass"
   ]
  },
  {
   "cell_type": "markdown",
   "id": "51165e38",
   "metadata": {},
   "source": [
    "# other functions that my be used"
   ]
  },
  {
   "cell_type": "code",
   "execution_count": 16,
   "id": "f74d477d",
   "metadata": {},
   "outputs": [],
   "source": [
    "\n",
    "\n",
    "def is_qudit(system):\n",
    "    \"\"\"\n",
    "    checks if a qinfostate is a qudit or not, meaning ket or bra not density operator form. this may need change in \n",
    "    the future in order to be consistent with mathematical definitions\n",
    "    \"\"\"\n",
    "    return (bool(system.shape()[0]==1) ^ bool(system.shape()[1]==1))\n",
    "\n",
    "def is_ket(system):\n",
    "    \"\"\"\n",
    "    checks if a qudit instance is a ket. If it is, it returns True, if it's not it returns False\n",
    "    \"\"\"\n",
    "    if is_qudit(system):\n",
    "        return system.shape()[1]==1\n",
    "    else:\n",
    "        raise TypeError(\"This is not a quDit state. Therefore it can not be a ket.\")\n",
    "    \n",
    "def is_bra(system):\n",
    "    \"\"\"\n",
    "    checks if a qudit is a bra. If it is, it returns True, if it's not it returns False\n",
    "    \"\"\"\n",
    "    if is_qudit(system):\n",
    "        return system.shape()[0]==1\n",
    "    else:\n",
    "        raise TypeError(\"This is not a quDit state. Therefore it can not be a ket.\")\n",
    "\n",
    "def is_density_state(system):\n",
    "    \"\"\"\n",
    "    checks if the system is a density state i.e. not a qudit(ket or bra)\n",
    "    \n",
    "    for now I use the is_qudit function but ideally it would be separate checker\n",
    "    \"\"\"\n",
    "    if not is_qudit(system):\n",
    "        return True\n",
    "    else:\n",
    "        return False\n",
    "\n",
    "def inner_product(quditA, quditB):\n",
    "    pass\n",
    "\n",
    "def outer_product(stateA,stateB):\n",
    "    return qinfo_state(tensor_product(stateA,stateB.dagger()).get_matrix(),stateA.get_dirac()*stateB.dagger().get_dirac())\n",
    "\n",
    "def identity_qinfo_state(d):\n",
    "    \"\"\"\n",
    "    returns a qinfostate instance which is the identity matrix of certain dimensions\n",
    "    \"\"\"\n",
    "    return qinfostate(eye(d),)\n",
    "\n",
    "\n"
   ]
  }
 ],
 "metadata": {
  "kernelspec": {
   "display_name": "Python 3",
   "language": "python",
   "name": "python3"
  },
  "language_info": {
   "codemirror_mode": {
    "name": "ipython",
    "version": 3
   },
   "file_extension": ".py",
   "mimetype": "text/x-python",
   "name": "python",
   "nbconvert_exporter": "python",
   "pygments_lexer": "ipython3",
   "version": "3.8.8"
  }
 },
 "nbformat": 4,
 "nbformat_minor": 5
}
