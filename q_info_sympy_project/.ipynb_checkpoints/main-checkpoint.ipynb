{
 "cells": [
  {
   "cell_type": "markdown",
   "id": "3d7ec654",
   "metadata": {},
   "source": [
    "# Multi-quDit operations and entropies\n",
    "This is an ongoing project-notebook for symbolic programming manipulation of arbitrary number of qudits based on sympy.\n",
    "\n",
    "Main todo's:\n",
    "\n",
    "Partial Tracing for arbitrary systems and subsystems.\n",
    "\n",
    "Parallel manipulation in matrix form and symbolic form(dirac notation).\n",
    "\n",
    "Quantum entropy calculations."
   ]
  },
  {
   "cell_type": "code",
   "execution_count": 12,
   "id": "8746cfed",
   "metadata": {},
   "outputs": [],
   "source": [
    "from sympy.matrices import Matrix\n",
    "from sympy.physics.quantum import Ket, Bra, TensorProduct, qapply, Dagger\n",
    "from sympy.interactive import printing\n",
    "printing.init_printing(use_latex = True)\n",
    "from sympy import *"
   ]
  },
  {
   "cell_type": "code",
   "execution_count": 13,
   "id": "d50cbf11",
   "metadata": {},
   "outputs": [],
   "source": [
    "class qinfo_state:\n",
    "    def __init__(self, matrix_form, dirac_form):\n",
    "        \"\"\"\n",
    "        From one form to another?\n",
    "        \"\"\"\n",
    "        self.matrix_form = matrix_form\n",
    "        self.dirac_form = dirac_form\n",
    "    def get_matrix(self):\n",
    "        return self.matrix_form\n",
    "    def get_dirac(self):\n",
    "        return self.dirac_form\n",
    "    def show(self):\n",
    "        display(\"In Matrix form:\")\n",
    "        display(self.get_matrix())\n",
    "        display(\"In Dirac form:\")\n",
    "        display(self.get_dirac())\n",
    "    def fshow(self):\n",
    "        \"\"\"\n",
    "        print as ket=matrix \n",
    "        \"\"\"\n",
    "        pass"
   ]
  },
  {
   "cell_type": "code",
   "execution_count": 18,
   "id": "47fe3d2d",
   "metadata": {},
   "outputs": [],
   "source": [
    "def tensor_product(systemA, systemB):\n",
    "    return qinfo_state(TensorProduct(systemA.get_matrix(),systemB.get_matrix()),qapply(TensorProduct(systemA.get_dirac(),systemB.get_dirac())))\n",
    "    "
   ]
  },
  {
   "cell_type": "code",
   "execution_count": 19,
   "id": "72eed44b",
   "metadata": {},
   "outputs": [],
   "source": [
    "zero = qinfo_state(Matrix([[1],[0]]),Ket(\"0\"))\n",
    "one = qinfo_state(Matrix([[0],[1]]),Ket(\"1\"))"
   ]
  },
  {
   "cell_type": "code",
   "execution_count": null,
   "id": "37e6c2f2",
   "metadata": {},
   "outputs": [],
   "source": []
  }
 ],
 "metadata": {
  "kernelspec": {
   "display_name": "Python 3",
   "language": "python",
   "name": "python3"
  },
  "language_info": {
   "codemirror_mode": {
    "name": "ipython",
    "version": 3
   },
   "file_extension": ".py",
   "mimetype": "text/x-python",
   "name": "python",
   "nbconvert_exporter": "python",
   "pygments_lexer": "ipython3",
   "version": "3.8.8"
  }
 },
 "nbformat": 4,
 "nbformat_minor": 5
}
