{
 "cells": [
  {
   "cell_type": "markdown",
   "id": "3d7ec654",
   "metadata": {},
   "source": [
    "# Multi-quDit operations and entropies\n",
    "This is an ongoing project-notebook for symbolic programming manipulation of arbitrary number of qudits based on sympy.\n",
    "\n",
    "Main todo's:\n",
    "\n",
    "Partial Tracing for arbitrary systems and subsystems.\n",
    "\n",
    "Parallel manipulation in matrix form and symbolic form(dirac notation).\n",
    "\n",
    "Quantum entropy calculations."
   ]
  },
  {
   "cell_type": "code",
   "execution_count": 1,
   "id": "8746cfed",
   "metadata": {},
   "outputs": [],
   "source": [
    "from sympy.matrices import Matrix\n",
    "from sympy.physics.quantum import Ket, Bra, TensorProduct, qapply, Dagger\n",
    "from sympy.interactive import printing\n",
    "printing.init_printing(use_latex = True)\n",
    "from sympy import *"
   ]
  },
  {
   "cell_type": "code",
   "execution_count": 16,
   "id": "d50cbf11",
   "metadata": {},
   "outputs": [],
   "source": [
    "class qinfo_state:\n",
    "    def __init__(self, matrix_form, dirac_form):\n",
    "        \"\"\"\n",
    "        From one form to another?\n",
    "        \"\"\"\n",
    "        self.matrix_form = matrix_form\n",
    "        self.dirac_form = dirac_form\n",
    "    def shape(self):\n",
    "        return shape(self.matrix_form)\n",
    "    def get_matrix(self):\n",
    "        return self.matrix_form\n",
    "    def get_dirac(self):\n",
    "        return self.dirac_form\n",
    "    def show(self):\n",
    "        display(\"In Matrix form:\")\n",
    "        display(self.get_matrix())\n",
    "        display(\"In Dirac form:\")\n",
    "        display(self.get_dirac())\n",
    "    def fshow(self):\n",
    "        \"\"\"\n",
    "        print as ket=matrix \n",
    "        \"\"\"\n",
    "        pass\n",
    "\n",
    "class qudit(qinfo_state):\n",
    "    \"\"\"\n",
    "    subcategory of hilbert states with (m,1) or (1,m) shape\n",
    "    \"\"\"\n",
    "    pass"
   ]
  },
  {
   "cell_type": "code",
   "execution_count": 17,
   "id": "47fe3d2d",
   "metadata": {},
   "outputs": [],
   "source": [
    "def tensor_product(systemA, systemB):\n",
    "    return qinfo_state(TensorProduct(systemA.get_matrix(),systemB.get_matrix()),qapply(TensorProduct(systemA.get_dirac(),systemB.get_dirac())))\n",
    "\n",
    "def is_qudit(system):\n",
    "    \"\"\"\n",
    "    checks if a qinfostate is a qudit or not\n",
    "    \"\"\"\n",
    "    pass\n",
    "\n",
    "def is_ket(system):\n",
    "    \"\"\"\n",
    "    checks if a qudit is a ket. If it is, it returns True, if it's not it returns False\n",
    "    \"\"\"\n",
    "    pass\n",
    "\n",
    "def is_bra(system):\n",
    "     \"\"\"\n",
    "    checks if a qudit is a bra. If it is, it returns True, if it's not it returns False\n",
    "    \"\"\"\n",
    "    pass\n",
    "\n",
    "def ket_to_bra(system):\n",
    "    pass\n",
    "\n",
    "def bra_to_ket(system):\n",
    "    pass\n",
    "\n",
    "def inner_product(stateA, stateB):\n",
    "    pass\n",
    "\n",
    "def outer_product(stateA,stateB):\n",
    "    pass \n",
    " \n",
    "    \n",
    "    "
   ]
  },
  {
   "cell_type": "code",
   "execution_count": 13,
   "id": "72eed44b",
   "metadata": {},
   "outputs": [
    {
     "data": {
      "text/plain": [
       "'In Matrix form:'"
      ]
     },
     "metadata": {},
     "output_type": "display_data"
    },
    {
     "data": {
      "image/png": "[encoded data removed]",
      "text/latex": [
       "$\\displaystyle \\left[\\begin{matrix}1\\\\0\\end{matrix}\\right]$"
      ],
      "text/plain": [
       "⎡1⎤\n",
       "⎢ ⎥\n",
       "⎣0⎦"
      ]
     },
     "metadata": {},
     "output_type": "display_data"
    },
    {
     "data": {
      "text/plain": [
       "'In Dirac form:'"
      ]
     },
     "metadata": {},
     "output_type": "display_data"
    },
    {
     "data": {
      "image/png": "[encoded data removed]",
      "text/latex": [
       "$\\displaystyle {\\left|0\\right\\rangle }$"
      ],
      "text/plain": [
       "❘0⟩"
      ]
     },
     "metadata": {},
     "output_type": "display_data"
    },
    {
     "data": {
      "text/plain": [
       "'In Matrix form:'"
      ]
     },
     "metadata": {},
     "output_type": "display_data"
    },
    {
     "data": {
      "image/png": "[encoded data removed]",
      "text/latex": [
       "$\\displaystyle \\left[\\begin{matrix}0\\\\1\\end{matrix}\\right]$"
      ],
      "text/plain": [
       "⎡0⎤\n",
       "⎢ ⎥\n",
       "⎣1⎦"
      ]
     },
     "metadata": {},
     "output_type": "display_data"
    },
    {
     "data": {
      "text/plain": [
       "'In Dirac form:'"
      ]
     },
     "metadata": {},
     "output_type": "display_data"
    },
    {
     "data": {
      "image/png": "[encoded data removed]",
      "text/latex": [
       "$\\displaystyle {\\left|1\\right\\rangle }$"
      ],
      "text/plain": [
       "❘1⟩"
      ]
     },
     "metadata": {},
     "output_type": "display_data"
    }
   ],
   "source": [
    "zero = qinfo_state(Matrix([[1],[0]]),Ket(\"0\"))\n",
    "one = qinfo_state(Matrix([[0],[1]]),Ket(\"1\"))\n",
    "zero.show()\n",
    "one.show()"
   ]
  },
  {
   "cell_type": "code",
   "execution_count": 18,
   "id": "37e6c2f2",
   "metadata": {},
   "outputs": [
    {
     "data": {
      "image/png": "[encoded data removed]",
      "text/latex": [
       "$\\displaystyle \\left( 4, \\  1\\right)$"
      ],
      "text/plain": [
       "(4, 1)"
      ]
     },
     "execution_count": 18,
     "metadata": {},
     "output_type": "execute_result"
    }
   ],
   "source": [
    "tensor_product(one,zero).shape()"
   ]
  },
  {
   "cell_type": "code",
   "execution_count": null,
   "id": "65b465c9",
   "metadata": {},
   "outputs": [],
   "source": []
  }
 ],
 "metadata": {
  "kernelspec": {
   "display_name": "Python 3",
   "language": "python",
   "name": "python3"
  },
  "language_info": {
   "codemirror_mode": {
    "name": "ipython",
    "version": 3
   },
   "file_extension": ".py",
   "mimetype": "text/x-python",
   "name": "python",
   "nbconvert_exporter": "python",
   "pygments_lexer": "ipython3",
   "version": "3.8.8"
  }
 },
 "nbformat": 4,
 "nbformat_minor": 5
}
