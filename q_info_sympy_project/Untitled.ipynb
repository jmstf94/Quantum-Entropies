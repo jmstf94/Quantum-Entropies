{
 "cells": [
  {
   "cell_type": "markdown",
   "id": "3d7ec654",
   "metadata": {},
   "source": [
    "# Multi-quDit operations and entropies\n",
    "This is an ongoing project-notebook for symbolic programming manipulation of arbitrary number of qudits based on sympy.\n",
    "\n",
    "Main todo's:\n",
    "\n",
    "Partial Tracing for arbitrary systems and subsystems.\n",
    "\n",
    "Parallel manipulation in matrix form and symbolic form(dirac notation).\n",
    "\n",
    "Quantum entropy calculations."
   ]
  },
  {
   "cell_type": "code",
   "execution_count": 119,
   "id": "8746cfed",
   "metadata": {},
   "outputs": [],
   "source": [
    "from sympy.matrices import Matrix\n",
    "from sympy.physics.quantum import Ket, Bra, TensorProduct, qapply\n",
    "from sympy.interactive import printing\n",
    "printing.init_printing(use_latex = true)\n",
    "from sympy import *"
   ]
  },
  {
   "cell_type": "code",
   "execution_count": 142,
   "id": "d50cbf11",
   "metadata": {},
   "outputs": [],
   "source": [
    "class qinfo_state:\n",
    "    def __init__(self, matrix_form, dirac_form):\n",
    "        \"\"\"\n",
    "        From one form to another?\n",
    "        \"\"\"\n",
    "        self.matrix_form = matrix_form\n",
    "        self.dirac_form = dirac_form\n",
    "    def get_matrix(self):\n",
    "        return self.matrix_form\n",
    "    def get_dirac(self):\n",
    "        return self.dirac_form\n",
    "    def show(self):\n",
    "        display('In Matrix form:')\n",
    "        display(self.get_matrix())\n",
    "        display('In Dirac form:')\n",
    "        display(self.get_dirac())\n",
    "    def fshow(self):\n",
    "        \"\"\"\n",
    "        print as ket=matrix \n",
    "        \"\"\"\n",
    "        pass"
   ]
  },
  {
   "cell_type": "code",
   "execution_count": 146,
   "id": "72eed44b",
   "metadata": {},
   "outputs": [
    {
     "data": {
      "text/plain": [
       "'In Matrix form:'"
      ]
     },
     "metadata": {},
     "output_type": "display_data"
    },
    {
     "data": {
      "image/png": "[encoded data removed]",
      "text/latex": [
       "$\\displaystyle \\left[\\begin{matrix}1\\\\0\\end{matrix}\\right]$"
      ],
      "text/plain": [
       "⎡1⎤\n",
       "⎢ ⎥\n",
       "⎣0⎦"
      ]
     },
     "metadata": {},
     "output_type": "display_data"
    },
    {
     "data": {
      "text/plain": [
       "'In Dirac form:'"
      ]
     },
     "metadata": {},
     "output_type": "display_data"
    },
    {
     "data": {
      "image/png": "[encoded data removed]",
      "text/latex": [
       "$\\displaystyle {\\left|0\\right\\rangle }$"
      ],
      "text/plain": [
       "❘0⟩"
      ]
     },
     "metadata": {},
     "output_type": "display_data"
    }
   ],
   "source": [
    "psi = qinfo_state(Matrix([[1],[0]]),Ket(\"0\"))\n",
    "psi.show()"
   ]
  }
 ],
 "metadata": {
  "kernelspec": {
   "display_name": "Python 3",
   "language": "python",
   "name": "python3"
  },
  "language_info": {
   "codemirror_mode": {
    "name": "ipython",
    "version": 3
   },
   "file_extension": ".py",
   "mimetype": "text/x-python",
   "name": "python",
   "nbconvert_exporter": "python",
   "pygments_lexer": "ipython3",
   "version": "3.8.8"
  }
 },
 "nbformat": 4,
 "nbformat_minor": 5
}
